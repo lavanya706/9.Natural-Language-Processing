{
 "cells": [
  {
   "cell_type": "code",
   "execution_count": 1,
   "id": "a7fe7659",
   "metadata": {},
   "outputs": [],
   "source": [
    "import pandas as pd"
   ]
  },
  {
   "cell_type": "code",
   "execution_count": 2,
   "id": "7765028d",
   "metadata": {},
   "outputs": [
    {
     "name": "stderr",
     "output_type": "stream",
     "text": [
      "C:\\Users\\lavanya\\anaconda3\\envs\\aiml\\lib\\site-packages\\IPython\\core\\interactiveshell.py:3553: FutureWarning: The error_bad_lines argument has been deprecated and will be removed in a future version.\n",
      "\n",
      "\n",
      "  exec(code_obj, self.user_global_ns, self.user_ns)\n",
      "b'Skipping line 181: expected 2 fields, saw 3\\nSkipping line 183: expected 2 fields, saw 10\\nSkipping line 222: expected 2 fields, saw 3\\n'\n"
     ]
    }
   ],
   "source": [
    "df=pd.read_csv('chat1.txt',header=None,error_bad_lines=False,encoding='utf8')"
   ]
  },
  {
   "cell_type": "code",
   "execution_count": 3,
   "id": "473efab2",
   "metadata": {},
   "outputs": [
    {
     "data": {
      "text/html": [
       "<div>\n",
       "<style scoped>\n",
       "    .dataframe tbody tr th:only-of-type {\n",
       "        vertical-align: middle;\n",
       "    }\n",
       "\n",
       "    .dataframe tbody tr th {\n",
       "        vertical-align: top;\n",
       "    }\n",
       "\n",
       "    .dataframe thead th {\n",
       "        text-align: right;\n",
       "    }\n",
       "</style>\n",
       "<table border=\"1\" class=\"dataframe\">\n",
       "  <thead>\n",
       "    <tr style=\"text-align: right;\">\n",
       "      <th></th>\n",
       "      <th>0</th>\n",
       "      <th>1</th>\n",
       "    </tr>\n",
       "  </thead>\n",
       "  <tbody>\n",
       "    <tr>\n",
       "      <th>0</th>\n",
       "      <td>31/05/2024</td>\n",
       "      <td>1:20 pm - Leena: IMG-20240531-WA0025.jpg (fil...</td>\n",
       "    </tr>\n",
       "    <tr>\n",
       "      <th>1</th>\n",
       "      <td>31/05/2024</td>\n",
       "      <td>1:21 pm - Leena: IMG-20240531-WA0024.jpg (fil...</td>\n",
       "    </tr>\n",
       "    <tr>\n",
       "      <th>2</th>\n",
       "      <td>31/05/2024</td>\n",
       "      <td>1:21 pm - Leena: IMG-20240531-WA0027.jpg (fil...</td>\n",
       "    </tr>\n",
       "    <tr>\n",
       "      <th>3</th>\n",
       "      <td>31/05/2024</td>\n",
       "      <td>1:22 pm - Lavanya: Final answer??</td>\n",
       "    </tr>\n",
       "    <tr>\n",
       "      <th>4</th>\n",
       "      <td>31/05/2024</td>\n",
       "      <td>1:22 pm - Lavanya: H(z) vendama??</td>\n",
       "    </tr>\n",
       "    <tr>\n",
       "      <th>...</th>\n",
       "      <td>...</td>\n",
       "      <td>...</td>\n",
       "    </tr>\n",
       "    <tr>\n",
       "      <th>208</th>\n",
       "      <td>12/06/2024</td>\n",
       "      <td>4:13 pm - Leena: 😳</td>\n",
       "    </tr>\n",
       "    <tr>\n",
       "      <th>209</th>\n",
       "      <td>12/06/2024</td>\n",
       "      <td>4:13 pm - Leena: Idhenna pudhusa iruku</td>\n",
       "    </tr>\n",
       "    <tr>\n",
       "      <th>210</th>\n",
       "      <td>12/06/2024</td>\n",
       "      <td>4:13 pm - Lavanya: Ithukku thaan avanga reply...</td>\n",
       "    </tr>\n",
       "    <tr>\n",
       "      <th>211</th>\n",
       "      <td>12/06/2024</td>\n",
       "      <td>4:13 pm - Leena: Apdiya</td>\n",
       "    </tr>\n",
       "    <tr>\n",
       "      <th>212</th>\n",
       "      <td>12/06/2024</td>\n",
       "      <td>4:14 pm - Lavanya: Only offline thaan</td>\n",
       "    </tr>\n",
       "  </tbody>\n",
       "</table>\n",
       "<p>213 rows × 2 columns</p>\n",
       "</div>"
      ],
      "text/plain": [
       "              0                                                  1\n",
       "0    31/05/2024   1:20 pm - Leena: IMG-20240531-WA0025.jpg (fil...\n",
       "1    31/05/2024   1:21 pm - Leena: IMG-20240531-WA0024.jpg (fil...\n",
       "2    31/05/2024   1:21 pm - Leena: IMG-20240531-WA0027.jpg (fil...\n",
       "3    31/05/2024                  1:22 pm - Lavanya: Final answer??\n",
       "4    31/05/2024                  1:22 pm - Lavanya: H(z) vendama??\n",
       "..          ...                                                ...\n",
       "208  12/06/2024                                 4:13 pm - Leena: 😳\n",
       "209  12/06/2024             4:13 pm - Leena: Idhenna pudhusa iruku\n",
       "210  12/06/2024   4:13 pm - Lavanya: Ithukku thaan avanga reply...\n",
       "211  12/06/2024                            4:13 pm - Leena: Apdiya\n",
       "212  12/06/2024              4:14 pm - Lavanya: Only offline thaan\n",
       "\n",
       "[213 rows x 2 columns]"
      ]
     },
     "execution_count": 3,
     "metadata": {},
     "output_type": "execute_result"
    }
   ],
   "source": [
    "df"
   ]
  },
  {
   "cell_type": "code",
   "execution_count": 4,
   "id": "b24e7fad",
   "metadata": {},
   "outputs": [
    {
     "data": {
      "text/html": [
       "<div>\n",
       "<style scoped>\n",
       "    .dataframe tbody tr th:only-of-type {\n",
       "        vertical-align: middle;\n",
       "    }\n",
       "\n",
       "    .dataframe tbody tr th {\n",
       "        vertical-align: top;\n",
       "    }\n",
       "\n",
       "    .dataframe thead th {\n",
       "        text-align: right;\n",
       "    }\n",
       "</style>\n",
       "<table border=\"1\" class=\"dataframe\">\n",
       "  <thead>\n",
       "    <tr style=\"text-align: right;\">\n",
       "      <th></th>\n",
       "      <th>Date</th>\n",
       "      <th>Time</th>\n",
       "      <th>Name</th>\n",
       "      <th>Chat</th>\n",
       "    </tr>\n",
       "  </thead>\n",
       "  <tbody>\n",
       "    <tr>\n",
       "      <th>3</th>\n",
       "      <td>31/05/2024</td>\n",
       "      <td>1:22 pm</td>\n",
       "      <td>Lavanya</td>\n",
       "      <td>Final answer??</td>\n",
       "    </tr>\n",
       "    <tr>\n",
       "      <th>4</th>\n",
       "      <td>31/05/2024</td>\n",
       "      <td>1:22 pm</td>\n",
       "      <td>Lavanya</td>\n",
       "      <td>H(z) vendama??</td>\n",
       "    </tr>\n",
       "    <tr>\n",
       "      <th>5</th>\n",
       "      <td>31/05/2024</td>\n",
       "      <td>1:22 pm</td>\n",
       "      <td>Leena</td>\n",
       "      <td>Venum di</td>\n",
       "    </tr>\n",
       "    <tr>\n",
       "      <th>6</th>\n",
       "      <td>31/05/2024</td>\n",
       "      <td>1:23 pm</td>\n",
       "      <td>Leena</td>\n",
       "      <td>Potutu anupren wait pannu</td>\n",
       "    </tr>\n",
       "    <tr>\n",
       "      <th>7</th>\n",
       "      <td>31/05/2024</td>\n",
       "      <td>1:23 pm</td>\n",
       "      <td>Lavanya</td>\n",
       "      <td>Mmm</td>\n",
       "    </tr>\n",
       "    <tr>\n",
       "      <th>...</th>\n",
       "      <td>...</td>\n",
       "      <td>...</td>\n",
       "      <td>...</td>\n",
       "      <td>...</td>\n",
       "    </tr>\n",
       "    <tr>\n",
       "      <th>208</th>\n",
       "      <td>12/06/2024</td>\n",
       "      <td>4:13 pm</td>\n",
       "      <td>Leena</td>\n",
       "      <td>😳</td>\n",
       "    </tr>\n",
       "    <tr>\n",
       "      <th>209</th>\n",
       "      <td>12/06/2024</td>\n",
       "      <td>4:13 pm</td>\n",
       "      <td>Leena</td>\n",
       "      <td>Idhenna pudhusa iruku</td>\n",
       "    </tr>\n",
       "    <tr>\n",
       "      <th>210</th>\n",
       "      <td>12/06/2024</td>\n",
       "      <td>4:13 pm</td>\n",
       "      <td>Lavanya</td>\n",
       "      <td>Ithukku thaan avanga reply pannanga</td>\n",
       "    </tr>\n",
       "    <tr>\n",
       "      <th>211</th>\n",
       "      <td>12/06/2024</td>\n",
       "      <td>4:13 pm</td>\n",
       "      <td>Leena</td>\n",
       "      <td>Apdiya</td>\n",
       "    </tr>\n",
       "    <tr>\n",
       "      <th>212</th>\n",
       "      <td>12/06/2024</td>\n",
       "      <td>4:14 pm</td>\n",
       "      <td>Lavanya</td>\n",
       "      <td>Only offline thaan</td>\n",
       "    </tr>\n",
       "  </tbody>\n",
       "</table>\n",
       "<p>210 rows × 4 columns</p>\n",
       "</div>"
      ],
      "text/plain": [
       "           Date       Time      Name                                  Chat\n",
       "3    31/05/2024   1:22 pm    Lavanya                        Final answer??\n",
       "4    31/05/2024   1:22 pm    Lavanya                        H(z) vendama??\n",
       "5    31/05/2024   1:22 pm      Leena                              Venum di\n",
       "6    31/05/2024   1:23 pm      Leena             Potutu anupren wait pannu\n",
       "7    31/05/2024   1:23 pm    Lavanya                                   Mmm\n",
       "..          ...        ...       ...                                   ...\n",
       "208  12/06/2024   4:13 pm      Leena                                     😳\n",
       "209  12/06/2024   4:13 pm      Leena                 Idhenna pudhusa iruku\n",
       "210  12/06/2024   4:13 pm    Lavanya   Ithukku thaan avanga reply pannanga\n",
       "211  12/06/2024   4:13 pm      Leena                                Apdiya\n",
       "212  12/06/2024   4:14 pm    Lavanya                    Only offline thaan\n",
       "\n",
       "[210 rows x 4 columns]"
      ]
     },
     "execution_count": 4,
     "metadata": {},
     "output_type": "execute_result"
    }
   ],
   "source": [
    "df=df.drop(0)\n",
    "df=df.drop(1)\n",
    "df=df.drop(2)\n",
    "df.columns=['Date','Chat']\n",
    "Message=df[\"Chat\"].str.split(\"-\",n=1,expand=True)\n",
    "df[\"Time\"]=Message[0]\n",
    "Message1=Message[1].str.split(\":\",n=1,expand=True)\n",
    "df[\"Name\"]=Message1[0]\n",
    "df[\"Chat\"]=Message1[1]\n",
    "df=df[[\"Date\",\"Time\",\"Name\",\"Chat\"]]\n",
    "df"
   ]
  },
  {
   "cell_type": "code",
   "execution_count": 5,
   "id": "314136d1",
   "metadata": {},
   "outputs": [
    {
     "name": "stdout",
     "output_type": "stream",
     "text": [
      "<class 'pandas.core.frame.DataFrame'>\n",
      "Int64Index: 210 entries, 3 to 212\n",
      "Data columns (total 4 columns):\n",
      " #   Column  Non-Null Count  Dtype \n",
      "---  ------  --------------  ----- \n",
      " 0   Date    210 non-null    object\n",
      " 1   Time    164 non-null    object\n",
      " 2   Name    163 non-null    object\n",
      " 3   Chat    163 non-null    object\n",
      "dtypes: object(4)\n",
      "memory usage: 8.2+ KB\n"
     ]
    }
   ],
   "source": [
    "df.info()"
   ]
  },
  {
   "cell_type": "code",
   "execution_count": 6,
   "id": "81dcbffc",
   "metadata": {},
   "outputs": [
    {
     "name": "stdout",
     "output_type": "stream",
     "text": [
      "<class 'pandas.core.frame.DataFrame'>\n",
      "Int64Index: 163 entries, 3 to 212\n",
      "Data columns (total 4 columns):\n",
      " #   Column  Non-Null Count  Dtype \n",
      "---  ------  --------------  ----- \n",
      " 0   Date    163 non-null    object\n",
      " 1   Time    163 non-null    object\n",
      " 2   Name    163 non-null    object\n",
      " 3   Chat    163 non-null    object\n",
      "dtypes: object(4)\n",
      "memory usage: 6.4+ KB\n"
     ]
    }
   ],
   "source": [
    "df=df.dropna()\n",
    "df.info()"
   ]
  },
  {
   "cell_type": "code",
   "execution_count": null,
   "id": "4abae83c",
   "metadata": {},
   "outputs": [],
   "source": [
    "import pandas as pd\n",
    "import matplotlib.pyplot as plt\n",
    "import seaborn as sns\n",
    "from nltk.sentiment.vader import SentimentIntensityAnalyzer\n",
    "import nltk\n",
    "\n",
    "# Ensure the VADER lexicon is downloaded\n",
    "nltk.download('vader_lexicon')\n",
    "\n",
    "def sentimentalAnalysis(data, columnname):\n",
    "    \"\"\"Perform sentiment analysis on a specific column in the dataframe using VADER.\"\"\"\n",
    "    \n",
    "    # Initialize the sentiment intensity analyzer\n",
    "    sid = SentimentIntensityAnalyzer()\n",
    "    \n",
    "    # Drop any rows with null or empty values in the specified column\n",
    "    data = data.dropna(subset=[columnname])\n",
    "    \n",
    "    # Apply sentiment analysis\n",
    "    data['scores'] = data[columnname].apply(lambda commentText: sid.polarity_scores(commentText))\n",
    "    data['compound'] = data['scores'].apply(lambda score_dict: score_dict['compound'])\n",
    "    data['Negative'] = data['scores'].apply(lambda score_dict: score_dict['neg'])\n",
    "    data['Positive'] = data['scores'].apply(lambda score_dict: score_dict['pos'])\n",
    "    data['Neutral'] = data['scores'].apply(lambda score_dict: score_dict['neu'])\n",
    "    \n",
    "    # Create a column for final positive or negative sentiment based on compound score\n",
    "    data['comp_score'] = data['compound'].apply(lambda c: 'pos' if c >= 0 else 'neg')\n",
    "    \n",
    "    # Clear any previous plots\n",
    "    plt.clf()\n",
    "    \n",
    "    # Count the number of positive and negative sentiments\n",
    "    postneg = pd.DataFrame(data['comp_score'].value_counts())\n",
    "    \n",
    "    return postneg, data"
   ]
  },
  {
   "cell_type": "code",
   "execution_count": null,
   "id": "67a44cb2",
   "metadata": {},
   "outputs": [],
   "source": [
    "pos,data_senti=sentimentalAnalysis(df,columnname='Chat')"
   ]
  },
  {
   "cell_type": "code",
   "execution_count": null,
   "id": "907e0ee8",
   "metadata": {},
   "outputs": [],
   "source": [
    "data_senti"
   ]
  },
  {
   "cell_type": "code",
   "execution_count": null,
   "id": "26c2112e",
   "metadata": {},
   "outputs": [],
   "source": [
    "pos"
   ]
  },
  {
   "cell_type": "code",
   "execution_count": null,
   "id": "cde514fb",
   "metadata": {},
   "outputs": [],
   "source": [
    "df = pd.concat([ data_senti], axis=1)\n",
    "df"
   ]
  },
  {
   "cell_type": "code",
   "execution_count": null,
   "id": "b2a0a7c7",
   "metadata": {},
   "outputs": [],
   "source": [
    "from sklearn.feature_extraction.text import TfidfVectorizer"
   ]
  },
  {
   "cell_type": "code",
   "execution_count": null,
   "id": "1af416f5",
   "metadata": {},
   "outputs": [],
   "source": [
    "#create vector\n",
    "tfidf=TfidfVectorizer(max_df=0.95,min_df=2,stop_words='english')\n",
    "dtm=tfidf.fit_transform(df[\"Chat\"])"
   ]
  },
  {
   "cell_type": "code",
   "execution_count": null,
   "id": "9b981d50",
   "metadata": {},
   "outputs": [],
   "source": [
    "from sklearn.decomposition import LatentDirichletAllocation\n",
    "lda_model=LatentDirichletAllocation(n_components=5,random_state=42)\n",
    "lda_model.fit(dtm)"
   ]
  },
  {
   "cell_type": "code",
   "execution_count": null,
   "id": "32fdba42",
   "metadata": {},
   "outputs": [],
   "source": [
    "for index,topic in enumerate(lda_model.components_):\n",
    "    results=([tfidf.get_feature_names()[i] for i in topic.argsort()[-10:]])\n",
    "    print(results)"
   ]
  },
  {
   "cell_type": "code",
   "execution_count": null,
   "id": "07758c1d",
   "metadata": {},
   "outputs": [],
   "source": [
    "topic_results=lda_model.transform(dtm)\n",
    "df[\"Topic\"]=topic_results.argmax(axis=1)"
   ]
  },
  {
   "cell_type": "code",
   "execution_count": null,
   "id": "e187d794",
   "metadata": {},
   "outputs": [],
   "source": [
    "df[\"Topic\"].value_counts()"
   ]
  },
  {
   "cell_type": "code",
   "execution_count": null,
   "id": "e759723a",
   "metadata": {
    "scrolled": false
   },
   "outputs": [],
   "source": [
    "df"
   ]
  },
  {
   "cell_type": "code",
   "execution_count": null,
   "id": "12b65f93",
   "metadata": {},
   "outputs": [],
   "source": [
    "df"
   ]
  },
  {
   "cell_type": "markdown",
   "id": "a44d5877",
   "metadata": {},
   "source": [
    "# Talkative vs Less Talkative"
   ]
  },
  {
   "cell_type": "code",
   "execution_count": null,
   "id": "169f4616",
   "metadata": {},
   "outputs": [],
   "source": [
    "# Group by 'Name' to count messages sent by each person\n",
    "message_counts = df.groupby('Name').size().reset_index(name='MessageCount')\n",
    "\n",
    "# Identify talkative vs. less talkative based on message counts\n",
    "talkative_threshold = message_counts['MessageCount'].quantile(0.75)\n",
    "message_counts['Talkative'] = message_counts['MessageCount'].apply(lambda count: 'Talkative' if count >= talkative_threshold else 'Less Talkative')\n",
    "\n",
    "# Display message counts and talkative classification\n",
    "print(\"\\nMessage Counts per Person:\")\n",
    "print(message_counts)\n",
    "\n",
    "# Visualize using seaborn or matplotlib as needed\n",
    "sns.barplot(x='Name', y='MessageCount', data=message_counts, hue='Talkative')\n",
    "plt.xticks(rotation=45)\n",
    "plt.title('Message Counts and Talkative Classification')\n",
    "plt.show()\n"
   ]
  },
  {
   "cell_type": "markdown",
   "id": "2fef3a9f",
   "metadata": {},
   "source": [
    "# Media Count Sent by Each Person"
   ]
  },
  {
   "cell_type": "code",
   "execution_count": null,
   "id": "ccff583a",
   "metadata": {},
   "outputs": [],
   "source": [
    "# Count 'Media' occurrences in the 'Chat' column\n",
    "df['MediaCount'] = df['Chat'].str.count('<Media omitted>')\n",
    "\n",
    "# Group by 'Name' to sum media counts\n",
    "media_counts = df.groupby('Name')['MediaCount'].sum().reset_index()\n",
    "\n",
    "# Display media counts per person\n",
    "print(\"\\nMedia Counts per Person:\")\n",
    "print(media_counts)\n"
   ]
  },
  {
   "cell_type": "markdown",
   "id": "ec1e5534",
   "metadata": {},
   "source": [
    "# Missed Call"
   ]
  },
  {
   "cell_type": "code",
   "execution_count": null,
   "id": "d0c3cf61",
   "metadata": {},
   "outputs": [],
   "source": [
    "# Count occurrences of 'Missed call'\n",
    "df['MissedCallCount'] = df['Chat'].str.count('Missed call')\n",
    "\n",
    "# Sum missed call counts per person\n",
    "missed_calls = df.groupby('Name')['MissedCallCount'].sum().reset_index()\n",
    "\n",
    "# Display missed call counts per person\n",
    "print(\"\\nMissed Call Counts per Person:\")\n",
    "print(missed_calls)\n"
   ]
  },
  {
   "cell_type": "markdown",
   "id": "d483814d",
   "metadata": {},
   "source": [
    "# Missed Video"
   ]
  },
  {
   "cell_type": "code",
   "execution_count": null,
   "id": "d714be18",
   "metadata": {},
   "outputs": [],
   "source": [
    "# Count occurrences of 'Missed call'\n",
    "df['MissedvideoCount'] = df['Chat'].str.count('Missed video')\n",
    "\n",
    "# Sum missed call counts per person\n",
    "missed_video = df.groupby('Name')['MissedvideoCount'].sum().reset_index()\n",
    "\n",
    "# Display missed call counts per person\n",
    "print(\"\\nMissed video Counts per Person:\")\n",
    "print(missed_video)\n"
   ]
  },
  {
   "cell_type": "markdown",
   "id": "b5dfe6df",
   "metadata": {},
   "source": [
    "# deleted messages"
   ]
  },
  {
   "cell_type": "code",
   "execution_count": null,
   "id": "9cb28b19",
   "metadata": {},
   "outputs": [],
   "source": [
    "# Count occurrences of 'Missed call'\n",
    "df['deletedmessageCount'] = df['Chat'].str.count('deleted message')\n",
    "\n",
    "# Sum missed call counts per person\n",
    "deletedmessage = df.groupby('Name')['deletedmessageCount'].sum().reset_index()\n",
    "\n",
    "# Display missed call counts per person\n",
    "print(\"\\ndeletedmessage Counts per Person:\")\n",
    "print(deletedmessage)\n"
   ]
  },
  {
   "cell_type": "markdown",
   "id": "fe031080",
   "metadata": {},
   "source": [
    "# Flirt and non-flirt"
   ]
  },
  {
   "cell_type": "code",
   "execution_count": null,
   "id": "2298740b",
   "metadata": {},
   "outputs": [],
   "source": [
    "flirt_keywords = ['flirt', 'date', 'cute', 'handsome', 'beautiful', 'attractive', 'charming', \n",
    "                  'sweet', 'gorgeous', 'lovely', 'heart', 'kiss', 'hug', 'romantic', 'babe', \n",
    "                  'darling', 'adorable', 'hot', 'wink']"
   ]
  },
  {
   "cell_type": "code",
   "execution_count": null,
   "id": "0e58ca6d",
   "metadata": {},
   "outputs": [],
   "source": [
    "def assign_label(chat_message):\n",
    "    for word in flirt_keywords:\n",
    "        if word in chat_message.lower():\n",
    "            return 'flirt'\n",
    "    return 'non-flirt'\n"
   ]
  },
  {
   "cell_type": "code",
   "execution_count": null,
   "id": "fd154447",
   "metadata": {},
   "outputs": [],
   "source": [
    "df['Label'] = df['Chat'].apply(assign_label)"
   ]
  },
  {
   "cell_type": "code",
   "execution_count": null,
   "id": "d9f90641",
   "metadata": {},
   "outputs": [],
   "source": [
    "df = df[['Name','Chat', 'Label']]\n",
    "df=pd.DataFrame(df)\n",
    "df"
   ]
  }
 ],
 "metadata": {
  "kernelspec": {
   "display_name": "Python 3 (ipykernel)",
   "language": "python",
   "name": "python3"
  },
  "language_info": {
   "codemirror_mode": {
    "name": "ipython",
    "version": 3
   },
   "file_extension": ".py",
   "mimetype": "text/x-python",
   "name": "python",
   "nbconvert_exporter": "python",
   "pygments_lexer": "ipython3",
   "version": "3.7.16"
  }
 },
 "nbformat": 4,
 "nbformat_minor": 5
}
